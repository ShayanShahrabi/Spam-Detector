{
 "cells": [
  {
   "cell_type": "markdown",
   "metadata": {},
   "source": [
    "### Introduction\n",
    "The Simple Naive Bayes Classifier is a group of classifiers based on probabilities that usually have acceptable accuracy. This method is based on independent events and the Bayes theorem. In this project, we intend to write a program that receives data consisting of spam and non-spam messages, as well as a list of anonymous messages, and determines whether the anonymous messages are spam or not."
   ]
  },
  {
   "cell_type": "markdown",
   "metadata": {},
   "source": [
    "### Importing Necessary Libraries"
   ]
  },
  {
   "cell_type": "code",
   "execution_count": 12,
   "metadata": {},
   "outputs": [],
   "source": [
    "import math\n",
    "import re\n",
    "from collections import defaultdict"
   ]
  },
  {
   "cell_type": "markdown",
   "metadata": {},
   "source": [
    "### Training the Classifier\n",
    "\n",
    "The `train` function is responsible for training the text classifier on a given training dataset. It takes the path to the training file as an input and returns several variables that store information about the training data and the learned model.\n",
    "\n",
    "Here's how the function works:\n",
    "\n",
    "- Initialize variables to keep track of spam and ham counts, word counts, and the vocabulary.\n",
    "- Open the training file and read each line.\n",
    "- Split the line into the label (spam or ham) and the text.\n",
    "- Extract individual words from the text using regular expressions.\n",
    "- Update the spam or ham count based on the label and increment the word counts for the respective category.\n",
    "- Update the vocabulary with the unique words found in the text.\n",
    "- Return the obtained counts, word dictionaries, and vocabulary.\n",
    "\n",
    "This training process builds the foundation for the text classifier and allows it to make predictions based on the learned probabilities."
   ]
  },
  {
   "cell_type": "code",
   "execution_count": 3,
   "metadata": {},
   "outputs": [],
   "source": [
    "def train(train_file):\n",
    "    spam_count = 0\n",
    "    ham_count = 0\n",
    "    word_counts_spam = defaultdict(int)\n",
    "    word_counts_ham = defaultdict(int)\n",
    "    vocabulary = set()\n",
    "\n",
    "    with open(train_file, 'r', encoding='utf-8') as file:\n",
    "        for line in file:\n",
    "            label, text = line.strip().split('\\t')\n",
    "            words = re.findall(r'\\w+', text)\n",
    "            vocabulary.update(words)\n",
    "\n",
    "            if label == 'spam':\n",
    "                spam_count += 1\n",
    "                for word in words:\n",
    "                    word_counts_spam[word] += 1\n",
    "            else:\n",
    "                ham_count += 1\n",
    "                for word in words:\n",
    "                    word_counts_ham[word] += 1\n",
    "\n",
    "    return spam_count, ham_count, word_counts_spam, word_counts_ham, vocabulary"
   ]
  },
  {
   "cell_type": "markdown",
   "metadata": {},
   "source": [
    "### Calculating Probability\n",
    "\n",
    "The `calculate_probability` function calculates the probability of a word occurring in a given category (spam or ham). It takes the word, the word counts dictionary for the relevant category, the total number of words in the category, the smoothing parameter alpha, and the vocabulary size as inputs.\n",
    "\n",
    "Here's how the probability calculation is performed:\n",
    "\n",
    "- Retrieve the count of the word from the word counts dictionary.\n",
    "- Calculate the probability using the formula: `(word_count + alpha) / (total_words + alpha * vocabulary_size)`.\n",
    "- Return the calculated probability.\n",
    "\n",
    "This function is used during the classification process to estimate the likelihood of a word belonging to a specific category."
   ]
  },
  {
   "cell_type": "code",
   "execution_count": 4,
   "metadata": {},
   "outputs": [],
   "source": [
    "def calculate_probability(word, word_counts, total_words, alpha, vocabulary_size):\n",
    "    word_count = word_counts[word]\n",
    "    return (word_count + alpha) / (total_words + alpha * vocabulary_size)"
   ]
  },
  {
   "cell_type": "markdown",
   "metadata": {},
   "source": [
    "### Classifying Text\n",
    "\n",
    "The `classify_text` function is responsible for classifying a given text as spam or ham. It takes the text, the spam and ham counts, the word counts dictionaries, the vocabulary, and an optional smoothing parameter alpha as inputs.\n",
    "\n",
    "Here's an overview of the classification process:\n",
    "\n",
    "- Extract individual words from the text using regular expressions.\n",
    "- Calculate the spam and ham probabilities based on the spam and ham counts.\n",
    "- Initialize the log probabilities for spam and ham.\n",
    "- For each word in the text:\n",
    "   - If the word is present in the vocabulary:\n",
    "     - Update the spam and ham log probabilities using the calculated probabilities for the word in the respective categories.\n",
    "- Add the log probabilities of the spam and ham to their corresponding overall probabilities.\n",
    "- Determine the final label based on the higher probability (spam or ham).\n",
    "- Return the predicted label.\n",
    "\n",
    "This function uses the trained model obtained from the training process to classify new texts."
   ]
  },
  {
   "cell_type": "code",
   "execution_count": 5,
   "metadata": {},
   "outputs": [],
   "source": [
    "def classify_text(text, spam_count, ham_count, word_counts_spam, word_counts_ham, vocabulary, alpha=1):\n",
    "    words = re.findall(r'\\w+', text)\n",
    "    vocabulary_size = len(vocabulary)\n",
    "    spam_probability = spam_count / (spam_count + ham_count)\n",
    "    ham_probability = ham_count / (spam_count + ham_count)\n",
    "    spam_log_probability = 0\n",
    "    ham_log_probability = 0\n",
    "\n",
    "    for word in words:\n",
    "        if word in vocabulary:\n",
    "            spam_log_probability += math.log(calculate_probability(word, word_counts_spam, spam_count, alpha, vocabulary_size))\n",
    "            ham_log_probability += math.log(calculate_probability(word, word_counts_ham, ham_count, alpha, vocabulary_size))\n",
    "\n",
    "    spam_log_probability += math.log(spam_probability)\n",
    "    ham_log_probability += math.log(ham_probability)\n",
    "\n",
    "    if spam_log_probability > ham_log_probability:\n",
    "        return 'spam'\n",
    "    else:\n",
    "        return 'ham'"
   ]
  },
  {
   "cell_type": "markdown",
   "metadata": {},
   "source": [
    "### Testing the Classifier\n",
    "\n",
    "The `test` function applies the trained text classifier to a given test dataset. It takes the path to the test file, the output file, the spam and ham counts, the word counts dictionaries, and the vocabulary as inputs.\n",
    "\n",
    "Here's an outline of the testing process:\n",
    "\n",
    "1. Open the test file for reading and the output file for writing(cont.)\n",
    "\n",
    "```markdown\n",
    "1. Open the test file for reading and the output file for writing.\n",
    "2. For each line in the test file:\n",
    "   - Strip the line and extract the text.\n",
    "   - Use the `classify_text` function to predict the label for the text.\n",
    "   - Write the predicted label and the original text to the output file.\n",
    "3. Close both the input and output files.\n",
    "\n",
    "This function allows you to evaluate the performance of the trained classifier on new, unseen data."
   ]
  },
  {
   "cell_type": "code",
   "execution_count": 16,
   "metadata": {},
   "outputs": [],
   "source": [
    "def test(test_file, output_file, spam_count, ham_count, word_counts_spam, word_counts_ham, vocabulary):\n",
    "    with open(test_file, 'r', encoding='utf-8') as input_file, open(output_file, 'w', encoding='utf-8') as output_file:\n",
    "        for line in input_file:\n",
    "            text = line.strip()\n",
    "            label = classify_text(text, spam_count, ham_count, word_counts_spam, word_counts_ham, vocabulary)\n",
    "            output_file.write(f'{label}\\t{text}\\n')"
   ]
  },
  {
   "cell_type": "markdown",
   "metadata": {},
   "source": [
    "### Main Execution\n",
    "\n",
    "The main execution code allows you to run the text classification pipeline by specifying the paths to the training file, test file, and output file.\n",
    "\n",
    "Here's how the main execution works:\n",
    "\n",
    "- Specify the paths to the training file, test file, and output file.\n",
    "- Call the `train` function to train the text classifier on the training data.\n",
    "- Call the `test` function to classify the texts in the test file and write the predicted labels to the output file.\n",
    "\n",
    "Make sure to replace the placeholder file paths with the actual file paths before running the code.\n",
    "\n",
    "This main execution code provides a convenient way to run the text classification pipeline with minimal setup."
   ]
  },
  {
   "cell_type": "code",
   "execution_count": 17,
   "metadata": {},
   "outputs": [],
   "source": [
    "training_file = \"train_data\"\n",
    "test_file = \"sample_test_data\"\n",
    "output_file = \"output_file\"\n",
    "\n",
    "# Training the classifier\n",
    "spam_counts, ham_counts, spam_word_counts, ham_word_counts, vocabulary = train(training_file)\n",
    "\n",
    "# Testing the classifier\n",
    "test(test_file, output_file, spam_counts, ham_counts, spam_word_counts, ham_word_counts, vocabulary)"
   ]
  },
  {
   "cell_type": "markdown",
   "metadata": {},
   "source": [
    "### Results\n",
    "After evaluations, the classifier got a score of 100 / 100 which shows that the **accuracy was 90 percent or higher**. "
   ]
  }
 ],
 "metadata": {
  "kernelspec": {
   "display_name": "Python 3",
   "language": "python",
   "name": "python3"
  },
  "language_info": {
   "codemirror_mode": {
    "name": "ipython",
    "version": 3
   },
   "file_extension": ".py",
   "mimetype": "text/x-python",
   "name": "python",
   "nbconvert_exporter": "python",
   "pygments_lexer": "ipython3",
   "version": "3.11.1"
  }
 },
 "nbformat": 4,
 "nbformat_minor": 2
}
